{
 "cells": [
  {
   "cell_type": "code",
   "execution_count": 5,
   "id": "b83ffa58",
   "metadata": {},
   "outputs": [],
   "source": [
    "import oracledb\n",
    "import pandas as pd"
   ]
  },
  {
   "cell_type": "code",
   "execution_count": 9,
   "id": "3f4bbe99",
   "metadata": {},
   "outputs": [],
   "source": [
    "username = \"SYSTEM\"\n",
    "password = \"123\"\n",
    "dsn = \"localhost/XE\"\n",
    "connection = oracledb.connect(\n",
    "    user=username,\n",
    "    password = password,\n",
    "    dsn = dsn,\n",
    "    # mode = oracledb.SYSDBA\n",
    "\n",
    ")\n",
    "cursor = connection.cursor()"
   ]
  },
  {
   "cell_type": "code",
   "execution_count": 13,
   "id": "4edff36f",
   "metadata": {},
   "outputs": [],
   "source": [
    "df_boa = pd.read_csv('../data/BOA_cleaned.csv')\n",
    "df_cbe = pd.read_csv('../data/CBE_cleaned.csv')\n",
    "df_dash = pd.read_csv('../data/Dashen_cleaned.csv')\n",
    "df = pd.concat([df_boa,df_cbe,df_dash])\n",
    "df[\"date\"] = pd.to_datetime(df[\"date\"], errors=\"coerce\")"
   ]
  },
  {
   "cell_type": "code",
   "execution_count": 11,
   "id": "a5361acb",
   "metadata": {},
   "outputs": [],
   "source": [
    "bank_data = [\n",
    "    {\"name\": \"CBE\", \"website\": \"https://combanketh.et/\"},\n",
    "    {\"name\": \"BOA\", \"website\": \"https://www.bankofabyssinia.com/\"},\n",
    "    {\"name\": \"Dashen Bank\", \"website\": \"https://dashenbanksc.com/\"},\n",
    "]\n",
    "\n",
    "# Convert to DataFrame\n",
    "banks_df = pd.DataFrame(bank_data)\n",
    "\n",
    "# Insert banks\n",
    "for _, row in banks_df.iterrows():\n",
    "    cursor.execute(\"\"\"\n",
    "        INSERT INTO banks (name, website)\n",
    "        VALUES (:1, :2)\n",
    "    \"\"\", (row[\"name\"], row[\"website\"]))\n"
   ]
  },
  {
   "cell_type": "code",
   "execution_count": 14,
   "id": "6d4abce1",
   "metadata": {},
   "outputs": [],
   "source": [
    "cursor.execute(\"SELECT bank_id, name FROM banks\")\n",
    "bank_name_to_id = {name: bank_id for bank_id, name in cursor.fetchall()}\n",
    "\n",
    "for _, row in df.iterrows():\n",
    "    bank_name = row[\"bank_name\"]\n",
    "    \n",
    "    # Get bank_id, skip if bank not found in DB\n",
    "    bank_id = bank_name_to_id.get(bank_name)\n",
    "    if bank_id is None:\n",
    "        print(f\"Warning: Bank '{bank_name}' not found in DB. Skipping review.\")\n",
    "        continue\n",
    "    \n",
    "    cursor.execute(\"\"\"\n",
    "        INSERT INTO reviews (bank_id, review_text, rating, review_date)\n",
    "        VALUES (:1, :2, :3, :4)\n",
    "    \"\"\", (\n",
    "        bank_id,\n",
    "        row[\"review_text\"],\n",
    "        float(row[\"rating\"]) if pd.notnull(row[\"rating\"]) else None,\n",
    "        row[\"date\"].to_pydatetime() if pd.notnull(row[\"date\"]) else None\n",
    "    ))"
   ]
  },
  {
   "cell_type": "code",
   "execution_count": null,
   "id": "bcf1bd64",
   "metadata": {},
   "outputs": [],
   "source": [
    "# Commit and close\n",
    "connection.commit()\n",
    "cursor.close()\n",
    "connection.close()\n",
    "\n",
    "print(\"✅ Data inserted successfully.\")"
   ]
  }
 ],
 "metadata": {
  "kernelspec": {
   "display_name": ".venv",
   "language": "python",
   "name": "python3"
  },
  "language_info": {
   "codemirror_mode": {
    "name": "ipython",
    "version": 3
   },
   "file_extension": ".py",
   "mimetype": "text/x-python",
   "name": "python",
   "nbconvert_exporter": "python",
   "pygments_lexer": "ipython3",
   "version": "3.12.8"
  }
 },
 "nbformat": 4,
 "nbformat_minor": 5
}
