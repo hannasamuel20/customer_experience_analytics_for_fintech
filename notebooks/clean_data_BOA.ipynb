{
 "cells": [
  {
   "cell_type": "code",
   "execution_count": 1,
   "id": "2f1994db",
   "metadata": {},
   "outputs": [],
   "source": [
    "import pandas as pd\n",
    "import numpy as np\n",
    "import matplotlib.pyplot as plt\n",
    "import seaborn as sn\n"
   ]
  },
  {
   "cell_type": "code",
   "execution_count": 2,
   "id": "888b343b",
   "metadata": {},
   "outputs": [],
   "source": [
    "df = pd.read_csv('../data/BOA_20250608_161841.csv')"
   ]
  },
  {
   "cell_type": "code",
   "execution_count": 3,
   "id": "272c34cb",
   "metadata": {},
   "outputs": [
    {
     "name": "stdout",
     "output_type": "stream",
     "text": [
      "<class 'pandas.core.frame.DataFrame'>\n",
      "RangeIndex: 1000 entries, 0 to 999\n",
      "Data columns (total 5 columns):\n",
      " #   Column       Non-Null Count  Dtype \n",
      "---  ------       --------------  ----- \n",
      " 0   review_text  1000 non-null   object\n",
      " 1   rating       1000 non-null   int64 \n",
      " 2   date         1000 non-null   object\n",
      " 3   bank_name    1000 non-null   object\n",
      " 4   source       1000 non-null   object\n",
      "dtypes: int64(1), object(4)\n",
      "memory usage: 39.2+ KB\n"
     ]
    }
   ],
   "source": [
    "df.info()"
   ]
  },
  {
   "cell_type": "code",
   "execution_count": 4,
   "id": "c85204ee",
   "metadata": {},
   "outputs": [
    {
     "data": {
      "text/plain": [
       "review_text    0\n",
       "rating         0\n",
       "date           0\n",
       "bank_name      0\n",
       "source         0\n",
       "dtype: int64"
      ]
     },
     "execution_count": 4,
     "metadata": {},
     "output_type": "execute_result"
    }
   ],
   "source": [
    "df.isnull().sum()"
   ]
  },
  {
   "cell_type": "code",
   "execution_count": 5,
   "id": "aafd5b8f",
   "metadata": {},
   "outputs": [
    {
     "data": {
      "text/plain": [
       "np.int64(5)"
      ]
     },
     "execution_count": 5,
     "metadata": {},
     "output_type": "execute_result"
    }
   ],
   "source": [
    "df.duplicated().sum()"
   ]
  },
  {
   "cell_type": "code",
   "execution_count": 6,
   "id": "86c9f7fa",
   "metadata": {},
   "outputs": [
    {
     "data": {
      "text/html": [
       "<div>\n",
       "<style scoped>\n",
       "    .dataframe tbody tr th:only-of-type {\n",
       "        vertical-align: middle;\n",
       "    }\n",
       "\n",
       "    .dataframe tbody tr th {\n",
       "        vertical-align: top;\n",
       "    }\n",
       "\n",
       "    .dataframe thead th {\n",
       "        text-align: right;\n",
       "    }\n",
       "</style>\n",
       "<table border=\"1\" class=\"dataframe\">\n",
       "  <thead>\n",
       "    <tr style=\"text-align: right;\">\n",
       "      <th></th>\n",
       "      <th>review_text</th>\n",
       "      <th>rating</th>\n",
       "      <th>date</th>\n",
       "      <th>bank_name</th>\n",
       "      <th>source</th>\n",
       "    </tr>\n",
       "  </thead>\n",
       "  <tbody>\n",
       "    <tr>\n",
       "      <th>0</th>\n",
       "      <td>it's not working</td>\n",
       "      <td>3</td>\n",
       "      <td>2025-06-05</td>\n",
       "      <td>BOA</td>\n",
       "      <td>Google Play</td>\n",
       "    </tr>\n",
       "    <tr>\n",
       "      <th>1</th>\n",
       "      <td>Hello, I’m facing a problem with the BOA Mobil...</td>\n",
       "      <td>1</td>\n",
       "      <td>2025-06-03</td>\n",
       "      <td>BOA</td>\n",
       "      <td>Google Play</td>\n",
       "    </tr>\n",
       "    <tr>\n",
       "      <th>2</th>\n",
       "      <td>exceptional</td>\n",
       "      <td>5</td>\n",
       "      <td>2025-06-03</td>\n",
       "      <td>BOA</td>\n",
       "      <td>Google Play</td>\n",
       "    </tr>\n",
       "    <tr>\n",
       "      <th>3</th>\n",
       "      <td>BoA Mobile good bank</td>\n",
       "      <td>5</td>\n",
       "      <td>2025-06-02</td>\n",
       "      <td>BOA</td>\n",
       "      <td>Google Play</td>\n",
       "    </tr>\n",
       "    <tr>\n",
       "      <th>4</th>\n",
       "      <td>this is worest app 24/7 loading</td>\n",
       "      <td>1</td>\n",
       "      <td>2025-06-01</td>\n",
       "      <td>BOA</td>\n",
       "      <td>Google Play</td>\n",
       "    </tr>\n",
       "    <tr>\n",
       "      <th>...</th>\n",
       "      <td>...</td>\n",
       "      <td>...</td>\n",
       "      <td>...</td>\n",
       "      <td>...</td>\n",
       "      <td>...</td>\n",
       "    </tr>\n",
       "    <tr>\n",
       "      <th>995</th>\n",
       "      <td>Nice</td>\n",
       "      <td>5</td>\n",
       "      <td>2024-02-03</td>\n",
       "      <td>BOA</td>\n",
       "      <td>Google Play</td>\n",
       "    </tr>\n",
       "    <tr>\n",
       "      <th>996</th>\n",
       "      <td>A massive improvement from the previous app. M...</td>\n",
       "      <td>5</td>\n",
       "      <td>2024-02-03</td>\n",
       "      <td>BOA</td>\n",
       "      <td>Google Play</td>\n",
       "    </tr>\n",
       "    <tr>\n",
       "      <th>997</th>\n",
       "      <td>Good</td>\n",
       "      <td>5</td>\n",
       "      <td>2024-02-03</td>\n",
       "      <td>BOA</td>\n",
       "      <td>Google Play</td>\n",
       "    </tr>\n",
       "    <tr>\n",
       "      <th>998</th>\n",
       "      <td>Boa</td>\n",
       "      <td>5</td>\n",
       "      <td>2024-02-03</td>\n",
       "      <td>BOA</td>\n",
       "      <td>Google Play</td>\n",
       "    </tr>\n",
       "    <tr>\n",
       "      <th>999</th>\n",
       "      <td>Thank you</td>\n",
       "      <td>5</td>\n",
       "      <td>2024-02-03</td>\n",
       "      <td>BOA</td>\n",
       "      <td>Google Play</td>\n",
       "    </tr>\n",
       "  </tbody>\n",
       "</table>\n",
       "<p>995 rows × 5 columns</p>\n",
       "</div>"
      ],
      "text/plain": [
       "                                           review_text  rating        date  \\\n",
       "0                                     it's not working       3  2025-06-05   \n",
       "1    Hello, I’m facing a problem with the BOA Mobil...       1  2025-06-03   \n",
       "2                                          exceptional       5  2025-06-03   \n",
       "3                                 BoA Mobile good bank       5  2025-06-02   \n",
       "4                      this is worest app 24/7 loading       1  2025-06-01   \n",
       "..                                                 ...     ...         ...   \n",
       "995                                               Nice       5  2024-02-03   \n",
       "996  A massive improvement from the previous app. M...       5  2024-02-03   \n",
       "997                                               Good       5  2024-02-03   \n",
       "998                                                Boa       5  2024-02-03   \n",
       "999                                          Thank you       5  2024-02-03   \n",
       "\n",
       "    bank_name       source  \n",
       "0         BOA  Google Play  \n",
       "1         BOA  Google Play  \n",
       "2         BOA  Google Play  \n",
       "3         BOA  Google Play  \n",
       "4         BOA  Google Play  \n",
       "..        ...          ...  \n",
       "995       BOA  Google Play  \n",
       "996       BOA  Google Play  \n",
       "997       BOA  Google Play  \n",
       "998       BOA  Google Play  \n",
       "999       BOA  Google Play  \n",
       "\n",
       "[995 rows x 5 columns]"
      ]
     },
     "execution_count": 6,
     "metadata": {},
     "output_type": "execute_result"
    }
   ],
   "source": [
    "df.drop_duplicates()"
   ]
  },
  {
   "cell_type": "code",
   "execution_count": 7,
   "id": "b361e1c8",
   "metadata": {},
   "outputs": [],
   "source": [
    "df['date'] = pd.to_datetime(df['date']) \n",
    "## review, rating, date, bank, source"
   ]
  },
  {
   "cell_type": "code",
   "execution_count": 8,
   "id": "4d7b0d20",
   "metadata": {},
   "outputs": [],
   "source": [
    "df.to_csv('../data/BOA_cleaned.csv',index=False)"
   ]
  },
  {
   "cell_type": "code",
   "execution_count": null,
   "id": "abcf63c1",
   "metadata": {},
   "outputs": [],
   "source": []
  }
 ],
 "metadata": {
  "kernelspec": {
   "display_name": ".venv",
   "language": "python",
   "name": "python3"
  },
  "language_info": {
   "codemirror_mode": {
    "name": "ipython",
    "version": 3
   },
   "file_extension": ".py",
   "mimetype": "text/x-python",
   "name": "python",
   "nbconvert_exporter": "python",
   "pygments_lexer": "ipython3",
   "version": "3.12.8"
  }
 },
 "nbformat": 4,
 "nbformat_minor": 5
}
